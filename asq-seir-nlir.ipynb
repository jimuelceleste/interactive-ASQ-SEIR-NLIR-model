{
 "cells": [
  {
   "cell_type": "markdown",
   "id": "3a7f87e3",
   "metadata": {},
   "source": [
    "# Interactive ASQ-SEIR-NLIR Covid-19 Model"
   ]
  },
  {
   "cell_type": "markdown",
   "id": "013c5ae4",
   "metadata": {},
   "source": [
    "## Age-Stratified Quarantine-Modified SEIR with Non-Linear Incidence Rates (ASQ-SEIR-NLIR) COVID-19 Model (Bongolan et al. 2021; Rayo et al. 2020; Minoza et al. 2020)\n",
    "\n",
    "The ASQ-SEIR-NLIR model is a deterministic epidemic (COVID-19) model. It features quarantine, age, and behavioral (e.g., mask-wearing, physical distancing, etc.) and disease-resistance (e.g., healthy living, natural immunity, etc.) factors. It is described by a system of differential equations:\n",
    "\n",
    "$\\S' = \\frac{-\\beta Q(t) S I/N}{(1 + \\alpha S/N)(1 + \\epsilon I/N)}$\n",
    "\n",
    "$E' = \\frac{\\beta Q(t) S I/N}{(1 + \\alpha S/N)(1 + \\epsilon I/N)} - \\sigma U E$\n",
    "\n",
    "$I' = \\sigma U E - \\gamma I$\n",
    "\n",
    "$R' = \\gamma I$\n",
    "\n",
    "where $\\beta$, $\\sigma$, $\\gamma$ are the transmission, incubation, and removal rates; $Q(t)$ is the time-varying quarantine variable (Bongolan et al. 2021); $U$ is the age-stratified infection expectation (Rayo et al. 2020); $\\alpha$ and $\\epsilon$ are the non-linear incidence rates (Minoza et al. 2020). \n",
    "\n"
   ]
  },
  {
   "cell_type": "code",
   "execution_count": 6,
   "id": "0798fc4b",
   "metadata": {},
   "outputs": [
    {
     "data": {
      "application/vnd.jupyter.widget-view+json": {
       "model_id": "1dd91466496e4f8d82c9ecac8f41a4e4",
       "version_major": 2,
       "version_minor": 0
      },
      "text/plain": [
       "VBox(children=(IntText(value=100, description='Max Time'), FloatText(value=80.0, description='$S_0$'), FloatTe…"
      ]
     },
     "metadata": {},
     "output_type": "display_data"
    },
    {
     "data": {
      "application/vnd.jupyter.widget-view+json": {
       "model_id": "cab142dc8b654cecb9819754703d6306",
       "version_major": 2,
       "version_minor": 0
      },
      "text/plain": [
       "Output()"
      ]
     },
     "metadata": {},
     "output_type": "display_data"
    }
   ],
   "source": [
    "import numpy as np\n",
    "import matplotlib.pyplot as plt\n",
    "from scipy.integrate import odeint\n",
    "import ipywidgets as widgets\n",
    "\n",
    "def get_model(params, n):\n",
    "    def asq_seir_nlir(seir, t):\n",
    "        beta = params[0]\n",
    "        sigma = params[1]\n",
    "        gamma = params[2]\n",
    "        q = params[3]\n",
    "        u = params[4]\n",
    "        alpha = params[5]\n",
    "        epsilon = params[6]\n",
    "\n",
    "        s = seir[0]\n",
    "        e = seir[1]\n",
    "        i = seir[2]\n",
    "        r = seir[3]\n",
    "\n",
    "        # Non-linear Incidence Rate \n",
    "        nlir = 1 / ((1 + alpha * s/n) * (1 + epsilon * i/n))\n",
    "\n",
    "        # Differential Equations\n",
    "        dsdt = -beta * q * s * i/n * nlir\n",
    "        dedt = beta * q * s * i/n * nlir  - sigma * u * e\n",
    "        didt = sigma * u * e - gamma * i\n",
    "        drdt = gamma * i\n",
    "\n",
    "        return [dsdt, dedt, didt, drdt]\n",
    "    return asq_seir_nlir\n",
    "\n",
    "def solve_system(t_max, n, s0, e0, i0, r0, sigma, beta, gamma, q, u, alpha, epsilon):\n",
    "    params = [sigma, beta, gamma, q, u, alpha, epsilon]\n",
    "    seir0 = [s0, e0, i0, r0]\n",
    "    t = np.linspace(0, t_max)\n",
    "    \n",
    "    seir = odeint(get_model(params, n), seir0, t)    \n",
    "    s = seir[:,0]\n",
    "    e = seir[:,1]\n",
    "    i = seir[:,2]\n",
    "    r = seir[:,3]\n",
    "    \n",
    "    plt.plot(t, s, label=\"S\")\n",
    "    plt.plot(t, e, label=\"E\")\n",
    "    plt.plot(t, i, label=\"I\")\n",
    "    plt.plot(t, r, label=\"R\")\n",
    "    plt.legend()\n",
    "    plt.xlabel(\"time\")\n",
    "    plt.ylabel(\"individuals\")\n",
    "    plt.show()\n",
    "    \n",
    "    return seir\n",
    "\n",
    "t_max = widgets.IntText(\n",
    "    description=\"Max Time\", \n",
    "    value=100)\n",
    "s0 = widgets.FloatText(\n",
    "    description=r\"$S_0$\", \n",
    "    value=80)\n",
    "e0 = widgets.FloatText(\n",
    "    description=r\"$E_0$\", \n",
    "    value=10)\n",
    "i0 = widgets.FloatText(\n",
    "    description=r\"$I_0$\", \n",
    "    value=10)\n",
    "r0 = widgets.FloatText(\n",
    "    description=r\"$R_0$\", \n",
    "    value=0)\n",
    "n = widgets.FloatText(\n",
    "    description=r\"$N$\", \n",
    "    value=s0.value + e0.value + i0.value + r0.value)\n",
    "beta = widgets.FloatText(\n",
    "    description=r\"$\\beta$\", \n",
    "    value=3.2, \n",
    "    min=0, \n",
    "    step=0.01)\n",
    "sigma = widgets.FloatSlider(\n",
    "    description=r\"$\\sigma$\", \n",
    "    value=1/7, \n",
    "    min=0,\n",
    "    max=1,\n",
    "    step=0.01)\n",
    "gamma = widgets.FloatSlider(\n",
    "    description=r\"$\\gamma$\", \n",
    "    value=0.3, \n",
    "    min=0,\n",
    "    max=1,\n",
    "    step=0.01)\n",
    "q = widgets.FloatSlider(\n",
    "    description=r\"$Q(t)$\", \n",
    "    value=0.2, \n",
    "    min=0,\n",
    "    max=1,\n",
    "    step=0.01)\n",
    "u = widgets.FloatSlider(\n",
    "    description=r\"$U$\", \n",
    "    value=0.5, \n",
    "    min=0,\n",
    "    max=1,\n",
    "    step=0.01)\n",
    "alpha = widgets.FloatSlider(\n",
    "    description=r\"$\\alpha$\", \n",
    "    value=0.1, \n",
    "    min=0,\n",
    "    max=1,\n",
    "    step=0.01)\n",
    "epsilon = widgets.FloatSlider(\n",
    "    description=r\"$\\epsilon$\", \n",
    "    value=0.1, \n",
    "    min=0,\n",
    "    max=1,\n",
    "    step=0.01)\n",
    "\n",
    "ui = widgets.VBox([t_max, s0, e0, i0, r0, n, beta, sigma, gamma, q, u, alpha, epsilon])\n",
    "out = widgets.interactive_output(\n",
    "    solve_system, \n",
    "    {\n",
    "        \"t_max\": t_max, \n",
    "        \"n\": n, \n",
    "        \"s0\": s0, \n",
    "        \"e0\": e0, \n",
    "        \"i0\": i0, \n",
    "        \"r0\": r0, \n",
    "        \"sigma\": sigma, \n",
    "        \"beta\": beta, \n",
    "        \"gamma\": gamma, \n",
    "        \"q\": q, \n",
    "        \"u\": u, \n",
    "        \"alpha\": alpha, \n",
    "        \"epsilon\": epsilon\n",
    "    })\n",
    "\n",
    "display(ui, out)"
   ]
  },
  {
   "cell_type": "markdown",
   "id": "45fffd35",
   "metadata": {},
   "source": [
    "# References \n",
    "\n",
    "Bongolan, V.P., Minoza, J.M.A., de Castro, R., and Sevilleja, J.E., 2021, Age-Stratified Infection Probabilities Combined With a Quarantine-Modified Model for COVID-19 Needs Assessments: Model Development Study. J Med Internet Res 2021; 23(5): e19544. DOI: 10.2196/19544\n",
    "\n",
    "Minoza, J. M., Sevilleja, J. E., de Castro, R., Caoili S.E., Bongolan, V. P., 2020, Protection after Quarantine: Insights from a Q-SEIR Model with Nonlinear Incidence Rates Applied to COVID-19. medRxiv [pre-print]. doi.org/10.1101/2020.06.06.2012\n",
    "\n",
    "Rayo, J.F., de Castro, R., Sevilleja, J.E., and Bongolan, V.P., 2020, Modeling the dynamics of COVID-19 using Q-SEIR model with age-stratified infection probability. medRxiv [preprint]. DOI: 10.1101/2020.05.20.20095406"
   ]
  },
  {
   "cell_type": "code",
   "execution_count": null,
   "id": "e75b3d70",
   "metadata": {},
   "outputs": [],
   "source": []
  }
 ],
 "metadata": {
  "kernelspec": {
   "display_name": "Python 3",
   "language": "python",
   "name": "python3"
  },
  "language_info": {
   "codemirror_mode": {
    "name": "ipython",
    "version": 3
   },
   "file_extension": ".py",
   "mimetype": "text/x-python",
   "name": "python",
   "nbconvert_exporter": "python",
   "pygments_lexer": "ipython3",
   "version": "3.8.8"
  }
 },
 "nbformat": 4,
 "nbformat_minor": 5
}
